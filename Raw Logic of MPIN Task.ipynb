{
  "cells": [
    {
      "cell_type": "markdown",
      "metadata": {
        "id": "vvPxHN7qkeu-"
      },
      "source": [
        "# Author Name: Vivek Tripathi\n",
        "# Email: vivektripathi373@gmail.com\n",
        "# Github Repo Link:https://github.com/Vivek151205/mpin_strength_checker\n",
        "# Deploy Link:https://vivek151205-mpin-strength-checker-main-v7fhcu.streamlit.app/"
      ]
    },
    {
      "cell_type": "markdown",
      "metadata": {
        "id": "WEcYydgEYk2u"
      },
      "source": [
        "# Problem Statement\n",
        "Background\n",
        "Read about MPIN that is used to access mobile banking apps. Many a times users end up setting an MPIN that is\n",
        "guessable because\n",
        "1. It is a commonly used MPIN eg 1122\n",
        "2. It is a combination of easily known demographics of the user. Eg: if the birthdate is 02 Jan-1998 then MPIN\n",
        "could be 0201 or 9802 or 0201 etc. Demographics such as these could be used alone or in a combination\n",
        "  * DOB\n",
        "  * Wedding Anniversary\n",
        "  * Spouse birthday\n",
        "\n",
        "\n",
        "\n",
        "Expected Outcome\n",
        "1. Part A: Assume that the MPIN is 4-digits. Write a program that suggests if the MPIN is a commonly used one.\n",
        "Ignore the demographics for this part\n",
        "2. Part B: Enhance the above to take user’s demographics as input and provides an output\n",
        "a. Strength: WEAK or STRONG\n",
        "3. Part C: Enhance the above to provide the following outputs\n",
        "  * Strength: WEAK or STRONG\n",
        "  * If weak then the reason why was it considered weak: It should give from the following the reasons as an\n",
        "array. Array should be empty if Strength is STRONG and non-empty if WEAK\n",
        "  * COMMONLY_USED\n",
        "  * DEMOGRAPHIC_DOB_SELF\n",
        "  * DEMOGRAPHIC_DOB_SPOUSE\n",
        "  * DEMOGRAPHIC_ANNIVERSARY\n",
        "4. Part D: Above with a 6-digit PIN\n",
        "5. Write code that tests the above written code using a set of inputs. Write at least 20 test case scenarios"
      ]
    },
    {
      "cell_type": "markdown",
      "metadata": {
        "id": "IHl15_ikQ91p"
      },
      "source": [
        "#SOLUTION"
      ]
    },
    {
      "cell_type": "markdown",
      "metadata": {
        "id": "p0NYO6CUZY2W"
      },
      "source": [
        "## Part A: Assume that the MPIN is 4-digits. Write a program that suggests if the MPIN is a commonly used one.\n",
        "### Most Common four digit pins\n",
        "  *   When only a single digit is used (1111,0000,9999 etc)\n",
        "  *   When Consecutive Digits are used both in ascending and descending order(1234,4321 5678 etc)\n",
        "  *   When we use repeated elements (1122,2233,1212 etc)\\\n",
        "  *   When we make use of palindromes (1221,1331,2112 etc)\n",
        "  *   When we use years of 20th and 21st century (1993, 2002) as a lot users keep passwords as years\n",
        "  * When we use a lot number of zeroes( 0001,0210,2000 etc)\n",
        "  * When we use common keyboard patterns (7845,8965,4512,5632,3265,7410,8520,9630,1245,2563,5698, 5698)\n",
        "  \n",
        "\n",
        "\n",
        "\n",
        "\n",
        "\n",
        "\n"
      ]
    },
    {
      "cell_type": "code",
      "execution_count": 12,
      "metadata": {
        "id": "eojvYxRWptTw"
      },
      "outputs": [],
      "source": [
        "def get_valid_mpin_input():\n",
        "\n",
        "      mpin = input(\"Enter your 4-digit MPIN: \").strip()\n",
        "      #checking for empty input\n",
        "      if(len(mpin)==0):\n",
        "        print(\"MPIN cannot be empty\")\n",
        "        return \"invalid\"\n",
        "\n",
        "      # Checking if all characters are digits no other characters are allowed in pin\n",
        "      if not mpin.isdigit():\n",
        "          print(\"Invalid input! MPIN should contain only digits.\")\n",
        "          return \"invalid\"\n",
        "\n",
        "      # Check if it has exactly 4 digits not less or more than 4\n",
        "      if len(mpin) != 4:\n",
        "          print(\"Invalid length! MPIN should be exactly 4 digits long.\")\n",
        "          return \"invalid\"\n",
        "\n",
        "      return mpin"
      ]
    },
    {
      "cell_type": "code",
      "execution_count": 13,
      "metadata": {
        "id": "xR58Dl3kLyM_"
      },
      "outputs": [],
      "source": [
        "def is_commonly_used_four_digit_mpin(mpin):\n",
        "\n",
        "    # 1. When we use a single digit or all digits are same\n",
        "    def all_digits_same(mpin):\n",
        "        return mpin[0] == mpin[1] == mpin[2] == mpin[3]\n",
        "\n",
        "    # 2.When we use consecutive numbers\n",
        "    def is_consecutive(mpin):\n",
        "        ascending = True\n",
        "        descending = True\n",
        "        for i in range(3):\n",
        "            if int(mpin[i+1]) - int(mpin[i]) != 1:\n",
        "                ascending = False\n",
        "            if int(mpin[i]) - int(mpin[i+1]) != 1:\n",
        "                descending = False\n",
        "        return ascending or descending\n",
        "\n",
        "    # 3. When we useRepeating patterns (1212, 1122)\n",
        "    def has_repeat_pattern(mpin):\n",
        "        return (mpin[0] == mpin[2] and mpin[1] == mpin[3]) or (mpin[0] == mpin[1] and mpin[2] == mpin[3])\n",
        "\n",
        "    # 4.When we  Palindrome numbers as pins\n",
        "    def is_palindrome(mpin):\n",
        "        return mpin == mpin[::-1]\n",
        "\n",
        "    # 5.When we use pins that are Year-looking (1900–2025)\n",
        "    def is_year(mpin):\n",
        "        year = int(mpin)\n",
        "        return 1900 <= year <= 2100\n",
        "\n",
        "    # 6. When we use  Too many zeroes\n",
        "    def has_many_zeroes(mpin):\n",
        "        return mpin.count('0') >=3\n",
        "\n",
        "    # 7.When we use Common keyboard patterns that are on mobile phones even when they are shuffled\n",
        "    def is_keyboard_pattern(mpin):\n",
        "        COMMON_PATTERNS = {\n",
        "            \"1234\", \"4567\", \"7890\",\n",
        "            \"7410\", \"8520\", \"9630\",\n",
        "            \"159\", \"3572\", \"9512\", \"2580\", \"1470\",\n",
        "            \"1245\", \"2563\", \"5698\", \"8965\", \"3265\",\"7532\",\n",
        "            \"9874\",\"6541\",\"3214\",\"7896\",\"4563\",\"1236\",\"1258\",\"8963\",\"2369\",\"7852\",\"2301\",\"0102\",\"0203\"\n",
        "        }\n",
        "        return any(sorted(mpin) == sorted(p) for p in COMMON_PATTERNS)\n",
        "    #8. When we have consecutive subsequence of first 3 digits\n",
        "    def has_consecutive_subsequence(mpin):\n",
        "        digits = [int(d) for d in mpin]\n",
        "        for i in range(len(digits) - 2):\n",
        "            d1, d2, d3 = digits[i], digits[i+1], digits[i+2]\n",
        "            if d2 - d1 == 1 and d3 - d2 == 1:\n",
        "                return True\n",
        "            if d1 - d2 == 1 and d2 - d3 == 1:\n",
        "                return True\n",
        "        return False\n",
        "\n",
        "    # Applying all checks on user's mpin\n",
        "    if all_digits_same(mpin):\n",
        "        return True\n",
        "    if is_consecutive(mpin):\n",
        "        return True\n",
        "    if has_repeat_pattern(mpin):\n",
        "        return True\n",
        "    if is_palindrome(mpin):\n",
        "        return True\n",
        "    if is_year(mpin):\n",
        "        return True\n",
        "    if has_many_zeroes(mpin):\n",
        "        return True\n",
        "    if is_keyboard_pattern(mpin):\n",
        "        return True\n",
        "    if has_consecutive_subsequence(mpin):\n",
        "        return True\n",
        "\n",
        "    return False\n"
      ]
    },
    {
      "cell_type": "code",
      "execution_count": null,
      "metadata": {
        "id": "7jjSD1vvpzKG"
      },
      "outputs": [],
      "source": [
        "\n",
        "test_cases=int(input(\"Enter the number of testCases you want to run: \"))\n",
        "while test_cases>0:\n",
        "  mpin=get_valid_mpin_input()\n",
        "  if( mpin ==\"invalid\") :\n",
        "    continue\n",
        "  elif is_commonly_used_four_digit_mpin(mpin):\n",
        "    print(\"This is one of the commonly used pins\")\n",
        "  else:\n",
        "    print(\"This pin is not very common\")\n",
        "  test_cases-=1\n",
        "\n",
        "\n"
      ]
    },
    {
      "cell_type": "markdown",
      "metadata": {
        "id": "iKPBQwmwX3kN"
      },
      "source": [
        "## Part B: Enhance the above to take user’s demographics as input and provides an output a. Strength: WEAK or STRONG\n",
        " ### Demographics that i am taking into consideration\n",
        "  * DOB\n",
        "  * Wedding Anniversary\n",
        "  * Spouse birthday\n"
      ]
    },
    {
      "cell_type": "code",
      "execution_count": 50,
      "metadata": {
        "id": "b6zoWGR7uO1Y"
      },
      "outputs": [],
      "source": [
        "from datetime import datetime\n",
        "def get_valid_date_input(prompt=\"Enter a date (DD-MM-YYYY) or leave blank to skip: \", required=False):\n",
        "    while True:\n",
        "        date_str = input(prompt).strip()\n",
        "\n",
        "        if not date_str:\n",
        "            if required:\n",
        "                print(\"This field is required. Please enter a date.\")\n",
        "                continue\n",
        "            else:\n",
        "                return None  # User skipped\n",
        "\n",
        "        try:\n",
        "            parsed = datetime.strptime(date_str, \"%d-%m-%Y\")\n",
        "            return parsed.strftime(\"%d%m%Y\")\n",
        "        except ValueError:\n",
        "            print(\"Invalid date. Use DD-MM-YYYY and enter a real date.\")"
      ]
    },
    {
      "cell_type": "code",
      "execution_count": 51,
      "metadata": {
        "id": "0QPMQss_sW6J"
      },
      "outputs": [],
      "source": [
        "def extract_date_parts(date_str):\n",
        "    \"\"\"\n",
        "    Extract relevant parts from a date: DD, MM, YYYY, YY (first 2 + last 2)\n",
        "    \"\"\"\n",
        "\n",
        "    return [\n",
        "        date_str[:2],    # DD\n",
        "        date_str[2:4],   # MM\n",
        "        date_str[4:8],   # YYYY\n",
        "        date_str[4:6],   # YY (first 2)\n",
        "        date_str[6:8],   # YY (last 2)\n",
        "    ]\n",
        "def extract_all_date_parts(dates_list):\n",
        "  parts = []\n",
        "  for date in dates_list:\n",
        "        if date:\n",
        "            parts.extend(extract_date_parts(date))\n",
        "  return parts\n"
      ]
    },
    {
      "cell_type": "code",
      "execution_count": null,
      "metadata": {
        "id": "mGfgR2lYuQh6"
      },
      "outputs": [],
      "source": []
    },
    {
      "cell_type": "code",
      "execution_count": 53,
      "metadata": {
        "id": "QIlgKs4qa0lp"
      },
      "outputs": [],
      "source": [
        "def is_four_digit_mpin_from_any_date_combo(mpin: str, dates: list) -> bool:\n",
        "    \"\"\"\n",
        "    Check if the 4-digit MPIN is formed using parts from any two date components\n",
        "    across DOB, Spouse DOB, or Anniversary.\n",
        "    \"\"\"\n",
        "    if not dates:\n",
        "        return False\n",
        "\n",
        "    all_parts = []\n",
        "    for date in dates:\n",
        "        if date:\n",
        "            all_parts.extend(extract_date_parts(date))\n",
        "\n",
        "    # Try all 2-part combinations\n",
        "    for i in range(len(all_parts)):\n",
        "        for j in range(len(all_parts)):\n",
        "            if i != j:\n",
        "                combo = all_parts[i] + all_parts[j]\n",
        "                if len(combo) == 4 and combo == mpin:\n",
        "                    return True\n",
        "    return False\n",
        "\n",
        "def check_four_digit_mpin_strength(mpin: str, dob_self=None, dob_spouse=None, anniversary=None) -> str:\n",
        "    \"\"\"\n",
        "    Returns \"WEAK\" or \"STRONG\" based on common pattern or any demographic combinations.\n",
        "    \"\"\"\n",
        "    if is_commonly_used_four_digit_mpin(mpin):\n",
        "        return \"WEAK\"\n",
        "\n",
        "    if is_four_digit_mpin_from_any_date_combo(mpin, [dob_self, dob_spouse, anniversary]):\n",
        "        return \"WEAK\"\n",
        "\n",
        "    return \"STRONG\"\n",
        "\n",
        "\n"
      ]
    },
    {
      "cell_type": "code",
      "execution_count": 54,
      "metadata": {
        "colab": {
          "base_uri": "https://localhost:8080/"
        },
        "id": "G8lNerp7p52J",
        "outputId": "cdd35f16-8414-4158-dc86-58ae4fff21db"
      },
      "outputs": [
        {
          "name": "stdout",
          "output_type": "stream",
          "text": [
            "MPIN Strength Checker for four digit pin(Part B)\n",
            "Enter your 4-digit MPIN: 0102\n",
            "Enter your DOB (DD-MM-YYYY): 01-02-2003\n",
            "Enter spouse's DOB (DD-MM-YYYY) or leave blank to skip:: \n",
            "Enter anniversary (DD-MM-YYYY) or leave blank to skip: \n",
            "\n",
            "Result: Your MPIN is WEAK\n",
            "\n"
          ]
        }
      ],
      "source": [
        "if __name__ == \"__main__\":\n",
        "    print(\"MPIN Strength Checker for four digit pin(Part B)\")\n",
        "\n",
        "    mpin = get_valid_mpin_input()\n",
        "    dob_self = get_valid_date_input(\"Enter your DOB (DD-MM-YYYY): \",True)\n",
        "    dob_spouse = get_valid_date_input(\"Enter spouse's DOB (DD-MM-YYYY) or leave blank to skip:: \",False)\n",
        "    anniversary = get_valid_date_input(\"Enter anniversary (DD-MM-YYYY) or leave blank to skip: \",False)\n",
        "\n",
        "    strength = check_four_digit_mpin_strength(mpin, dob_self, dob_spouse, anniversary)\n",
        "\n",
        "    print(f\"\\nResult: Your MPIN is {strength}\\n\")\n"
      ]
    },
    {
      "cell_type": "markdown",
      "metadata": {
        "id": "0mDRdlg3HOBq"
      },
      "source": [
        "## Part C: Enhance the above to provide the following outputs\n",
        "  * Strength: WEAK or STRONG\n",
        "  * If weak then the reason why was it considered weak: It should give from the following the reasons as an\n",
        "array. Array should be empty if Strength is STRONG and non-empty if WEAK\n",
        "    * COMMONLY_USED\n",
        "    * DEMOGRAPHIC_DOB_SELF\n",
        "    * DEMOGRAPHIC_DOB_SPOUSE\n",
        "    * DEMOGRAPHIC_ANNIVERSARY"
      ]
    },
    {
      "cell_type": "code",
      "execution_count": 48,
      "metadata": {
        "id": "DqqthpvxanLR"
      },
      "outputs": [],
      "source": [
        "\n",
        "def find_weak_four_digit_mpin_reasons(mpin: str, dob_self=None, dob_spouse=None, anniversary=None):\n",
        "    reasons = []\n",
        "\n",
        "    # 1. Commonly used\n",
        "    if is_commonly_used_four_digit_mpin(mpin):\n",
        "        reasons.append(\"COMMONLY_USED\")\n",
        "\n",
        "    # 2. Check date-based combinations across all parts\n",
        "    all_parts = []\n",
        "    for date in [dob_self, dob_spouse, anniversary]:\n",
        "        if date:\n",
        "            all_parts.extend(extract_date_parts(date))\n",
        "    for i in range(len(all_parts)):\n",
        "        for j in range(len(all_parts)):\n",
        "            if i != j:\n",
        "                combo = all_parts[i] + all_parts[j]\n",
        "                if len(combo) == 4 and combo == mpin:\n",
        "                    # Now determine source of parts\n",
        "                    if dob_self and (all_parts[i] in extract_date_parts(dob_self) or all_parts[j] in extract_date_parts(dob_self)):\n",
        "                        reasons.append(\"DEMOGRAPHIC_DOB_SELF\")\n",
        "                    if dob_spouse and (all_parts[i] in extract_date_parts(dob_spouse) or all_parts[j] in extract_date_parts(dob_spouse)):\n",
        "                        reasons.append(\"DEMOGRAPHIC_DOB_SPOUSE\")\n",
        "                    if anniversary and (all_parts[i] in extract_date_parts(anniversary) or all_parts[j] in extract_date_parts(anniversary)):\n",
        "                        reasons.append(\"DEMOGRAPHIC_ANNIVERSARY\")\n",
        "                    break  # No need to keep searching\n",
        "    reasons = list(set(reasons))  # Remove duplicates\n",
        "    strength = \"WEAK\" if reasons else \"STRONG\"\n",
        "    return strength, reasons\n",
        "\n",
        "\n"
      ]
    },
    {
      "cell_type": "code",
      "execution_count": 55,
      "metadata": {
        "colab": {
          "base_uri": "https://localhost:8080/"
        },
        "id": "MmK81PWpqFHA",
        "outputId": "a69578c1-1aca-4011-d7fc-e0c4927be72e"
      },
      "outputs": [
        {
          "name": "stdout",
          "output_type": "stream",
          "text": [
            " MPIN Strength Checker with Reasons if weak\n",
            "\n",
            "Enter your 4-digit MPIN: 1403\n",
            "Enter your DOB (DD-MM-YYYY): 01-02-2003\n",
            "Enter spouse's DOB (optional): 14-08-2002\n",
            "Enter anniversary date (optional): \n",
            "\n",
            " Result: Your MPIN is ➤ WEAK\n",
            "Reasons: ['DEMOGRAPHIC_DOB_SPOUSE', 'DEMOGRAPHIC_DOB_SELF']\n"
          ]
        }
      ],
      "source": [
        "if __name__ == \"__main__\":\n",
        "    print(\" MPIN Strength Checker with Reasons if weak\\n\")\n",
        "\n",
        "    mpin = get_valid_mpin_input()\n",
        "    dob_self = get_valid_date_input(\"Enter your DOB (DD-MM-YYYY): \", required=True)\n",
        "    dob_spouse = get_valid_date_input(\"Enter spouse's DOB (optional): \")\n",
        "    anniversary = get_valid_date_input(\"Enter anniversary date (optional): \")\n",
        "\n",
        "    strength, reasons = find_weak_four_digit_mpin_reasons(mpin, dob_self, dob_spouse, anniversary)\n",
        "\n",
        "    print(f\"\\n Result: Your MPIN is ➤ {strength}\")\n",
        "    if strength == \"WEAK\":\n",
        "        print(f\"Reasons: {reasons}\")"
      ]
    },
    {
      "cell_type": "markdown",
      "metadata": {
        "id": "Refw-qjJJJiq"
      },
      "source": [
        "## Part D: Above all three cases with a 6-digit PIN"
      ]
    },
    {
      "cell_type": "markdown",
      "metadata": {
        "id": "qxPrOFJLK4qK"
      },
      "source": [
        "### Most common six digit patterns used in mpins are\n",
        "* When only a single digit is used repeatedly\n",
        "MPINs like 000000, 111111, or 999999 where the same digit is repeated six times are extremely common. These are easy to enter and remember, but highly insecure.\n",
        "\n",
        "* When consecutive digits are used in ascending or descending order\n",
        "MPINs such as 123456, 234567, or 987654 use straight sequences that follow a clear numeric pattern. These are easy to guess and are among the first combinations an attacker might try.\n",
        "\n",
        "* When we use palindromes\n",
        "Numbers that read the same forward and backward like 122221, 123321, or 141141 are common because they’re symmetrical and easy to recall.\n",
        "\n",
        "* When we use repeating patterns\n",
        "Repeating digit patterns such as 121212, 123123, 112233, or 111222 are visually structured and easy to remember — which is why they’re often used but unsafe.\n",
        "\n",
        "* When we use common keyboard patterns — even if shuffled\n",
        "Patterns that align with visual or physical layouts on a numeric keypad (like 123456, 147258, 741852, 789456, or even shuffled versions like 321654, 963258) are highly likely to be chosen by users who mentally “trace” a shape on their phone or keypad.\n",
        "\n",
        "* When we use combinations of day, month, and year from the 20th and 21st centuries\n",
        "  *  Users often form MPINs using their own or loved ones’ birthdates or anniversaries in formats like:\n",
        "\n",
        "  *  DDMMYY, MMDDYY, YYMMDD, YYDDMM\n",
        "\n",
        "  * For years between 1900 and 2099\n",
        "\n",
        "  Example: 010190, 311299, 200101, 990101\n",
        "  These formats are highly guessable, especially when personal information is known.\n",
        "\n",
        "* When the MPIN starts with 0 or has more than 3 zeroes\n",
        "MPINs like 000123, 000000, or 100000 contain excessive zeroes or begin with one. These combinations tend to be used to pad other numbers or simply out of convenience.\n",
        "\n",
        "* When we use a strictly consecutive subsequence of 6 digits\n",
        "Any 6-digit MPIN that fits directly into a longer natural sequence (e.g., 123456, 345678, 567890) is considered highly predictable and unsafe, as it resembles a “slice” of the number line.\n",
        "\n"
      ]
    },
    {
      "cell_type": "code",
      "execution_count": 33,
      "metadata": {
        "id": "bpjvkIXfqijC"
      },
      "outputs": [],
      "source": [
        "def get_valid_mpin_input_six_digits():\n",
        "      mpin = input(\"Enter your 6-digit MPIN: \").strip()\n",
        "      if len(mpin)==0:\n",
        "        print(\"MPIN cannot be empty\")\n",
        "        return \"invalid\"\n",
        "\n",
        "      # Checking if all characters are digits no other characters are allowed in pin\n",
        "      if not mpin.isdigit():\n",
        "          print(\"Invalid input! MPIN should contain only digits.\")\n",
        "          return \"invalid\"\n",
        "\n",
        "      # Check if it has exactly 4 digits not less or more than 4\n",
        "      if len(mpin) != 6:\n",
        "          print(\"Invalid length! MPIN should be exactly six digits long.\")\n",
        "          return \"invalid\"\n",
        "\n",
        "      return mpin\n"
      ]
    },
    {
      "cell_type": "code",
      "execution_count": 17,
      "metadata": {
        "id": "Ckbvk8u3JYx2"
      },
      "outputs": [],
      "source": [
        "def is_commonly_used_six_digit_mpin(mpin: str) -> bool:\n",
        "    \"\"\"\n",
        "    Returns True if the 6-digit MPIN is considered weak/common based on known patterns.\n",
        "    \"\"\"\n",
        "\n",
        "    def is_consecutive(mpin):\n",
        "        return mpin in \"0123456789\" or mpin in \"9876543210\"\n",
        "\n",
        "    def is_repeated_digit(mpin):\n",
        "        return all(ch == mpin[0] for ch in mpin)\n",
        "\n",
        "    def is_palindrome(mpin):\n",
        "        return mpin == mpin[::-1]\n",
        "\n",
        "    def is_repeating_pattern(mpin):\n",
        "        return (\n",
        "            mpin[:2] * 3 == mpin or\n",
        "            mpin[:3] * 2 == mpin or\n",
        "            mpin[:1] * 6 == mpin or\n",
        "            mpin[:2] + mpin[:2] + mpin[:2] == mpin\n",
        "        )\n",
        "\n",
        "    keyboard_patterns = [\n",
        "        \"123456\", \"654321\", \"121212\", \"112233\", \"123123\", \"789456\",\n",
        "        \"258369\", \"147258\", \"321321\", \"159357\", \"246810\"\n",
        "    ]\n",
        "    def is_keyboard_pattern(mpin):\n",
        "        return any(sorted(mpin) == sorted(pattern) for pattern in keyboard_patterns)\n",
        "\n",
        "    def has_many_zeros(mpin):\n",
        "        return mpin.count(\"0\") > 3 or mpin[0] == \"0\"\n",
        "\n",
        "    def is_strictly_consecutive_subsequence(mpin):\n",
        "        for i in range(1, len(mpin)):\n",
        "            if not (int(mpin[i]) - int(mpin[i - 1]) in {1, -1}):\n",
        "                return False\n",
        "        return True\n",
        "\n",
        "    return (\n",
        "        is_consecutive(mpin) or\n",
        "        is_repeated_digit(mpin) or\n",
        "        is_palindrome(mpin) or\n",
        "        is_repeating_pattern(mpin) or\n",
        "        is_keyboard_pattern(mpin) or\n",
        "        has_many_zeros(mpin) or\n",
        "        is_strictly_consecutive_subsequence(mpin)\n",
        "    )\n"
      ]
    },
    {
      "cell_type": "code",
      "execution_count": 56,
      "metadata": {
        "colab": {
          "base_uri": "https://localhost:8080/"
        },
        "collapsed": true,
        "id": "T3AgnfbIqUzf",
        "outputId": "39b6fbf0-4682-415f-814f-9623aa0615f9"
      },
      "outputs": [
        {
          "name": "stdout",
          "output_type": "stream",
          "text": [
            "Enter the number of testCases you want to run: 0\n"
          ]
        }
      ],
      "source": [
        "\n",
        "test_cases=int(input(\"Enter the number of testCases you want to run: \"))\n",
        "while test_cases>0:\n",
        "  mpin=get_valid_mpin_input_six_digits()\n",
        "  if( mpin ==\"invalid\") :\n",
        "    continue\n",
        "  elif is_commonly_used_six_digit_mpin(mpin):\n",
        "    print(\"This is one of the commonly used pins\")\n",
        "  else:\n",
        "    print(\"This pin is not very common\")\n",
        "  test_cases-=1\n"
      ]
    },
    {
      "cell_type": "markdown",
      "metadata": {
        "id": "lhOJbmRmkQut"
      },
      "source": [
        "### Taking user’s demographics as input and provides an output a. Strength: WEAK or STRONG\n",
        "Demographics that i am taking into consideration\n",
        "* DOB\n",
        "* Wedding Anniversary\n",
        "* Spouse birthday"
      ]
    },
    {
      "cell_type": "code",
      "execution_count": 45,
      "metadata": {
        "id": "vVCrxsVKmeo4"
      },
      "outputs": [],
      "source": [
        "\n",
        "def extract_date_parts(date_obj):\n",
        "    \"\"\"Extract DD, MM, YYYY, YY (last 2 digits) from date.\"\"\"\n",
        "    date_str = date_obj.strftime(\"%d%m%Y\")\n",
        "    return [\n",
        "        date_str[:2],\n",
        "        date_str[2:4],\n",
        "        date_str[4:6],\n",
        "        date_str[6:],\n",
        "    ]\n",
        "\n",
        "def check_six_digit_mpin_strength(mpin: str, dob_self=None, dob_spouse=None, anniversary=None) -> str:\n",
        "    if is_commonly_used_six_digit_mpin(mpin):\n",
        "        return \"WEAK\"\n",
        "\n",
        "    parts = []\n",
        "    for date in [dob_self, dob_spouse, anniversary]:\n",
        "        if date:\n",
        "            parts.extend(extract_date_parts(date))\n",
        "\n",
        "    # Try all combinations of 2 parts to form the 6-digit pin\n",
        "    for i in range(len(parts)):\n",
        "        for j in range(len(parts)):\n",
        "            for k in range(len(parts)):\n",
        "                if len({i, j, k}) == 3:  # Make sure all indices are unique\n",
        "                    combo = parts[i] + parts[j] + parts[k]\n",
        "                    if combo == mpin:\n",
        "                        return \"WEAK\"\n",
        "    return \"STRONG\"\n"
      ]
    },
    {
      "cell_type": "code",
      "execution_count": 57,
      "metadata": {
        "colab": {
          "base_uri": "https://localhost:8080/"
        },
        "id": "0YTorrgHmeOF",
        "outputId": "839bf5ae-c79c-422c-9304-ec99592c7e85"
      },
      "outputs": [
        {
          "name": "stdout",
          "output_type": "stream",
          "text": [
            "MPIN Strength Checker (Part B)\n",
            "Enter Number of test cases: 0\n"
          ]
        }
      ],
      "source": [
        "\n",
        "if __name__ == \"__main__\":\n",
        "    print(\"MPIN Strength Checker (Part B)\")\n",
        "    t=int(input(\"Enter Number of test cases: \"))\n",
        "    while t>0:\n",
        "      mpin = get_valid_mpin_input_six_digits()\n",
        "      if(mpin==\"invalid\"):\n",
        "        continue\n",
        "      dob_self = get_valid_date_input(\"Enter your DOB (DD-MM-YYYY): \",True)\n",
        "      dob_spouse = get_valid_date_input(\"Enter spouse's DOB (DD-MM-YYYY) or leave blank to skip: \",False)\n",
        "      anniversary = get_valid_date_input(\"Enter anniversary (DD-MM-YYYY) or leave blank to skip: \",False)\n",
        "      strength = check_six_digit_mpin_strength(mpin, dob_self, dob_spouse, anniversary)\n",
        "      print(f\"\\nResult: Your MPIN is {strength}\\n\")\n",
        "      t-=1"
      ]
    },
    {
      "cell_type": "markdown",
      "metadata": {
        "id": "eDkNcGi-kxur"
      },
      "source": [
        "###Enhance the above to provide the following outputs\n",
        "Strength: WEAK or STRONG\n",
        "* If weak then the reason why was it considered weak: It should give from the following the reasons as an array. Array should be empty if Strength is STRONG and non-empty if WEAK\n",
        "COMMONLY_USED\n",
        "  * DEMOGRAPHIC_DOB_SELF\n",
        "  * DEMOGRAPHIC_DOB_SPOUSE\n",
        "  * DEMOGRAPHIC_ANNIVERSARY"
      ]
    },
    {
      "cell_type": "code",
      "execution_count": 42,
      "metadata": {
        "id": "0SYKBWVZtZaJ"
      },
      "outputs": [],
      "source": [
        "from itertools import permutations\n",
        "\n",
        "def extract_all_date_parts_with_sources(dob_self, dob_spouse, anniversary):\n",
        "    \"\"\"Return a list of tuples: (part, source)\"\"\"\n",
        "    all_parts = []\n",
        "\n",
        "    if dob_self:\n",
        "        all_parts.extend([(p, \"DEMOGRAPHIC_DOB_SELF\") for p in extract_date_parts(dob_self)])\n",
        "    if dob_spouse:\n",
        "        all_parts.extend([(p, \"DEMOGRAPHIC_DOB_SPOUSE\") for p in extract_date_parts(dob_spouse)])\n",
        "    if anniversary:\n",
        "        all_parts.extend([(p, \"DEMOGRAPHIC_ANNIVERSARY\") for p in extract_date_parts(anniversary)])\n",
        "\n",
        "    return all_parts\n",
        "\n",
        "def find_weak_six_digit_mpin_reasons(mpin: str, dob_self=None, dob_spouse=None, anniversary=None):\n",
        "    reasons = set()\n",
        "\n",
        "    # 1. Check if it's commonly used\n",
        "    if is_commonly_used_six_digit_mpin(mpin):\n",
        "        reasons.add(\"COMMONLY_USED\")\n",
        "\n",
        "    # 2. Extract parts with their origin\n",
        "    parts_with_sources = extract_all_date_parts_with_sources(dob_self, dob_spouse, anniversary)\n",
        "\n",
        "    # 3. Generate all permutations of 3 parts where total length is 6\n",
        "    for combo in permutations(parts_with_sources, 3):\n",
        "        part1, part2, part3 = combo\n",
        "        combined = part1[0] + part2[0] + part3[0]\n",
        "\n",
        "        if combined == mpin:\n",
        "            # Add sources of the parts involved\n",
        "            reasons.add(part1[1])\n",
        "            reasons.add(part2[1])\n",
        "            reasons.add(part3[1])\n",
        "\n",
        "    strength = \"WEAK\" if reasons else \"STRONG\"\n",
        "    return strength, list(reasons)\n"
      ]
    },
    {
      "cell_type": "code",
      "execution_count": 43,
      "metadata": {
        "colab": {
          "base_uri": "https://localhost:8080/"
        },
        "id": "QWKk3Q-zy0K-",
        "outputId": "c11d5bae-5c69-42df-90cd-c4f4a130c280"
      },
      "outputs": [
        {
          "name": "stdout",
          "output_type": "stream",
          "text": [
            " MPIN Strength Checker with Reasons if weak for six digits\n",
            "\n",
            "Enter Number of Testcases: 0\n"
          ]
        }
      ],
      "source": [
        "if __name__ == \"__main__\":\n",
        "    print(\" MPIN Strength Checker with Reasons if weak for six digits\\n\")\n",
        "    t=int(input(\"Enter Number of Testcases: \"))\n",
        "    while t>0:\n",
        "      mpin = get_valid_mpin_input_six_digits()\n",
        "      if(mpin==\"invalid\"):\n",
        "        continue\n",
        "      dob_self = get_valid_date_input(\"Enter your DOB (DD-MM-YYYY): \", required=True)\n",
        "      dob_spouse = get_valid_date_input(\"Enter spouse's DOB (optional): \")\n",
        "      anniversary = get_valid_date_input(\"Enter anniversary date (optional): \")\n",
        "\n",
        "      strength, reasons = find_weak_six_digit_mpin_reasons(mpin, dob_self, dob_spouse, anniversary)\n",
        "\n",
        "      print(f\"\\n Result: Your MPIN is ➤ {strength}\")\n",
        "      if strength == \"WEAK\":\n",
        "          print(f\"Reasons: {reasons}\")\n",
        "      t-=1"
      ]
    },
    {
      "cell_type": "markdown",
      "metadata": {
        "id": "e7sz3VMXkpu4"
      },
      "source": [
        "# Test Cases Scenarios"
      ]
    },
    {
      "cell_type": "code",
      "execution_count": 58,
      "metadata": {
        "id": "vP-YnHvvONkc"
      },
      "outputs": [],
      "source": [
        "from datetime import datetime\n",
        "\n",
        "def date_formatter(date_str):\n",
        "    \"\"\"\n",
        "    Convert 'DD-MM-YYYY' format to 'DDMMYYYY'.\n",
        "    If already in 'DDMMYYYY' or None, return as is.\n",
        "    \"\"\"\n",
        "    if date_str is None:\n",
        "        return None\n",
        "\n",
        "    # If already 8-digit number string, assume it's formatted\n",
        "    if isinstance(date_str, str) and len(date_str) == 8 and date_str.isdigit():\n",
        "        return date_str\n",
        "\n",
        "    # Convert from DD-MM-YYYY to DDMMYYYY\n",
        "    try:\n",
        "        parsed = datetime.strptime(date_str, \"%d-%m-%Y\")\n",
        "        return parsed.strftime(\"%d%m%Y\")\n",
        "    except ValueError:\n",
        "        raise ValueError(\"Invalid date format. Use 'DD-MM-YYYY' or 'DDMMYYYY'.\")\n"
      ]
    },
    {
      "cell_type": "code",
      "execution_count": 59,
      "metadata": {
        "id": "RJcm3yl-IhDL"
      },
      "outputs": [],
      "source": [
        "def run_testcases(mpin, dob_self=None, dob_spouse=None, anniversary=None, expected_strength='', expected_reasons=None):\n",
        "    dob_self = date_formatter(dob_self)\n",
        "    dob_spouse = date_formatter(dob_spouse)\n",
        "    anniversary = date_formatter(anniversary)\n",
        "\n",
        "    if(len(mpin)==4 and mpin.isdigit()):\n",
        "      strength, reasons = find_weak_four_digit_mpin_reasons(mpin, dob_self, dob_spouse, anniversary)\n",
        "    elif(len(mpin)==6 and mpin.isdigit()):\n",
        "      strength, reasons = find_weak_six_digit_mpin_reasons(mpin, dob_self, dob_spouse, anniversary)\n",
        "    else:\n",
        "      print(\"Invalid Pin\")\n",
        "      return\n",
        "\n",
        "    print(f\"Testing MPIN: {mpin} ({len(mpin)}-digit)\")\n",
        "    print(f\"DOB Self      : {dob_self}\")\n",
        "    print(f\"DOB Spouse    : {dob_spouse}\")\n",
        "    print(f\"Anniversary   : {anniversary}\")\n",
        "    print(f\"Expected Strength: {expected_strength} | Actual Strength: {strength}\")\n",
        "    print(f\"Expected Reasons : {expected_reasons} | Actual Reasons : {reasons}\")\n",
        "\n",
        "    if strength == expected_strength and set(reasons) == set(expected_reasons):\n",
        "        print(\" Test Passed!\")\n",
        "    else:\n",
        "        print(\" Test Failed!\")\n",
        "\n",
        "    print(\"-\" * 100)\n"
      ]
    },
    {
      "cell_type": "code",
      "execution_count": 60,
      "metadata": {
        "colab": {
          "base_uri": "https://localhost:8080/"
        },
        "id": "NcoU4RjaPT6X",
        "outputId": "ce75d039-88ec-4d46-be67-c897f30e5c32"
      },
      "outputs": [
        {
          "name": "stdout",
          "output_type": "stream",
          "text": [
            "Testing MPIN: 0101 (4-digit)\n",
            "DOB Self      : 01011990\n",
            "DOB Spouse    : None\n",
            "Anniversary   : None\n",
            "Expected Strength: WEAK | Actual Strength: WEAK\n",
            "Expected Reasons : ['COMMONLY_USED', 'DEMOGRAPHIC_DOB_SELF'] | Actual Reasons : ['DEMOGRAPHIC_DOB_SELF', 'COMMONLY_USED']\n",
            " Test Passed!\n",
            "----------------------------------------------------------------------------------------------------\n",
            "Testing MPIN: 0202 (4-digit)\n",
            "DOB Self      : None\n",
            "DOB Spouse    : 02021991\n",
            "Anniversary   : None\n",
            "Expected Strength: WEAK | Actual Strength: WEAK\n",
            "Expected Reasons : ['COMMONLY_USED', 'DEMOGRAPHIC_DOB_SPOUSE'] | Actual Reasons : ['DEMOGRAPHIC_DOB_SPOUSE', 'COMMONLY_USED']\n",
            " Test Passed!\n",
            "----------------------------------------------------------------------------------------------------\n",
            "Testing MPIN: 0303 (4-digit)\n",
            "DOB Self      : None\n",
            "DOB Spouse    : None\n",
            "Anniversary   : 03032022\n",
            "Expected Strength: WEAK | Actual Strength: WEAK\n",
            "Expected Reasons : ['COMMONLY_USED', 'DEMOGRAPHIC_ANNIVERSARY'] | Actual Reasons : ['DEMOGRAPHIC_ANNIVERSARY', 'COMMONLY_USED']\n",
            " Test Passed!\n",
            "----------------------------------------------------------------------------------------------------\n",
            "Testing MPIN: 7583 (4-digit)\n",
            "DOB Self      : 01011990\n",
            "DOB Spouse    : 02021991\n",
            "Anniversary   : 03032001\n",
            "Expected Strength: STRONG | Actual Strength: STRONG\n",
            "Expected Reasons : [] | Actual Reasons : []\n",
            " Test Passed!\n",
            "----------------------------------------------------------------------------------------------------\n",
            "Testing MPIN: 1508 (4-digit)\n",
            "DOB Self      : 15081995\n",
            "DOB Spouse    : None\n",
            "Anniversary   : None\n",
            "Expected Strength: WEAK | Actual Strength: WEAK\n",
            "Expected Reasons : ['DEMOGRAPHIC_DOB_SELF'] | Actual Reasons : ['DEMOGRAPHIC_DOB_SELF']\n",
            " Test Passed!\n",
            "----------------------------------------------------------------------------------------------------\n",
            "Testing MPIN: 1585 (4-digit)\n",
            "DOB Self      : None\n",
            "DOB Spouse    : 15081985\n",
            "Anniversary   : None\n",
            "Expected Strength: WEAK | Actual Strength: WEAK\n",
            "Expected Reasons : ['DEMOGRAPHIC_DOB_SPOUSE'] | Actual Reasons : ['DEMOGRAPHIC_DOB_SPOUSE']\n",
            " Test Passed!\n",
            "----------------------------------------------------------------------------------------------------\n",
            "Testing MPIN: 0890 (4-digit)\n",
            "DOB Self      : None\n",
            "DOB Spouse    : None\n",
            "Anniversary   : 15081990\n",
            "Expected Strength: WEAK | Actual Strength: WEAK\n",
            "Expected Reasons : ['DEMOGRAPHIC_ANNIVERSARY'] | Actual Reasons : ['DEMOGRAPHIC_ANNIVERSARY']\n",
            " Test Passed!\n",
            "----------------------------------------------------------------------------------------------------\n",
            "Testing MPIN: 1225 (4-digit)\n",
            "DOB Self      : 25121990\n",
            "DOB Spouse    : None\n",
            "Anniversary   : None\n",
            "Expected Strength: WEAK | Actual Strength: WEAK\n",
            "Expected Reasons : ['COMMONLY_USED', 'DEMOGRAPHIC_DOB_SELF'] | Actual Reasons : ['DEMOGRAPHIC_DOB_SELF']\n",
            " Test Failed!\n",
            "----------------------------------------------------------------------------------------------------\n",
            "Testing MPIN: 1585 (4-digit)\n",
            "DOB Self      : 15012000\n",
            "DOB Spouse    : 01011985\n",
            "Anniversary   : None\n",
            "Expected Strength: WEAK | Actual Strength: WEAK\n",
            "Expected Reasons : ['DEMOGRAPHIC_DOB_SELF', 'DEMOGRAPHIC_DOB_SPOUSE'] | Actual Reasons : ['DEMOGRAPHIC_DOB_SPOUSE', 'DEMOGRAPHIC_DOB_SELF']\n",
            " Test Passed!\n",
            "----------------------------------------------------------------------------------------------------\n",
            "Testing MPIN: 9021 (4-digit)\n",
            "DOB Self      : None\n",
            "DOB Spouse    : None\n",
            "Anniversary   : 21091990\n",
            "Expected Strength: WEAK | Actual Strength: WEAK\n",
            "Expected Reasons : ['DEMOGRAPHIC_ANNIVERSARY'] | Actual Reasons : ['DEMOGRAPHIC_ANNIVERSARY']\n",
            " Test Passed!\n",
            "----------------------------------------------------------------------------------------------------\n",
            "Testing MPIN: 918273 (6-digit)\n",
            "DOB Self      : 01011980\n",
            "DOB Spouse    : 05071983\n",
            "Anniversary   : 11121986\n",
            "Expected Strength: STRONG | Actual Strength: STRONG\n",
            "Expected Reasons : [] | Actual Reasons : []\n",
            " Test Passed!\n",
            "----------------------------------------------------------------------------------------------------\n",
            "Testing MPIN: 150895 (6-digit)\n",
            "DOB Self      : 15081995\n",
            "DOB Spouse    : None\n",
            "Anniversary   : None\n",
            "Expected Strength: WEAK | Actual Strength: WEAK\n",
            "Expected Reasons : ['DEMOGRAPHIC_DOB_SELF'] | Actual Reasons : ['DEMOGRAPHIC_DOB_SELF']\n",
            " Test Passed!\n",
            "----------------------------------------------------------------------------------------------------\n",
            "Testing MPIN: 1581 (4-digit)\n",
            "DOB Self      : 15081990\n",
            "DOB Spouse    : 01011981\n",
            "Anniversary   : None\n",
            "Expected Strength: WEAK | Actual Strength: WEAK\n",
            "Expected Reasons : ['DEMOGRAPHIC_DOB_SELF', 'DEMOGRAPHIC_DOB_SPOUSE'] | Actual Reasons : ['DEMOGRAPHIC_DOB_SPOUSE', 'DEMOGRAPHIC_DOB_SELF']\n",
            " Test Passed!\n",
            "----------------------------------------------------------------------------------------------------\n",
            "Testing MPIN: 150891 (6-digit)\n",
            "DOB Self      : 15081995\n",
            "DOB Spouse    : 12121991\n",
            "Anniversary   : None\n",
            "Expected Strength: WEAK | Actual Strength: WEAK\n",
            "Expected Reasons : ['DEMOGRAPHIC_DOB_SELF', 'DEMOGRAPHIC_DOB_SPOUSE'] | Actual Reasons : ['DEMOGRAPHIC_DOB_SPOUSE', 'DEMOGRAPHIC_DOB_SELF']\n",
            " Test Passed!\n",
            "----------------------------------------------------------------------------------------------------\n",
            "Testing MPIN: 250790 (6-digit)\n",
            "DOB Self      : None\n",
            "DOB Spouse    : None\n",
            "Anniversary   : 25071990\n",
            "Expected Strength: WEAK | Actual Strength: WEAK\n",
            "Expected Reasons : ['DEMOGRAPHIC_ANNIVERSARY'] | Actual Reasons : ['DEMOGRAPHIC_ANNIVERSARY']\n",
            " Test Passed!\n",
            "----------------------------------------------------------------------------------------------------\n",
            "Testing MPIN: 123456 (6-digit)\n",
            "DOB Self      : 01012000\n",
            "DOB Spouse    : None\n",
            "Anniversary   : None\n",
            "Expected Strength: WEAK | Actual Strength: WEAK\n",
            "Expected Reasons : ['COMMONLY_USED'] | Actual Reasons : ['COMMONLY_USED']\n",
            " Test Passed!\n",
            "----------------------------------------------------------------------------------------------------\n",
            "Testing MPIN: 010203 (6-digit)\n",
            "DOB Self      : 01022003\n",
            "DOB Spouse    : 01022003\n",
            "Anniversary   : 01022003\n",
            "Expected Strength: WEAK | Actual Strength: WEAK\n",
            "Expected Reasons : ['COMMONLY_USED', 'DEMOGRAPHIC_DOB_SELF', 'DEMOGRAPHIC_DOB_SPOUSE', 'DEMOGRAPHIC_ANNIVERSARY'] | Actual Reasons : ['DEMOGRAPHIC_DOB_SPOUSE', 'DEMOGRAPHIC_DOB_SELF', 'DEMOGRAPHIC_ANNIVERSARY', 'COMMONLY_USED']\n",
            " Test Passed!\n",
            "----------------------------------------------------------------------------------------------------\n",
            "Testing MPIN: 8672 (4-digit)\n",
            "DOB Self      : 01011990\n",
            "DOB Spouse    : 02021990\n",
            "Anniversary   : 03031990\n",
            "Expected Strength: STRONG | Actual Strength: STRONG\n",
            "Expected Reasons : [] | Actual Reasons : []\n",
            " Test Passed!\n",
            "----------------------------------------------------------------------------------------------------\n",
            "Testing MPIN: 0211 (4-digit)\n",
            "DOB Self      : None\n",
            "DOB Spouse    : 02111992\n",
            "Anniversary   : 02112022\n",
            "Expected Strength: WEAK | Actual Strength: WEAK\n",
            "Expected Reasons : ['DEMOGRAPHIC_DOB_SPOUSE', 'DEMOGRAPHIC_ANNIVERSARY'] | Actual Reasons : ['DEMOGRAPHIC_DOB_SPOUSE', 'DEMOGRAPHIC_ANNIVERSARY']\n",
            " Test Passed!\n",
            "----------------------------------------------------------------------------------------------------\n",
            "Testing MPIN: 9019 (4-digit)\n",
            "DOB Self      : 19011990\n",
            "DOB Spouse    : None\n",
            "Anniversary   : None\n",
            "Expected Strength: WEAK | Actual Strength: WEAK\n",
            "Expected Reasons : ['DEMOGRAPHIC_DOB_SELF'] | Actual Reasons : ['DEMOGRAPHIC_DOB_SELF']\n",
            " Test Passed!\n",
            "----------------------------------------------------------------------------------------------------\n"
          ]
        }
      ],
      "source": [
        "# 1. Commonly used and from self DOB\n",
        "run_testcases(\"0101\", \"01-01-1990\", None, None, \"WEAK\", [\"COMMONLY_USED\", \"DEMOGRAPHIC_DOB_SELF\"])\n",
        "\n",
        "# 2. Commonly used and from spouse DOB\n",
        "run_testcases(\"0202\", None, \"02-02-1991\", None, \"WEAK\", [\"COMMONLY_USED\", \"DEMOGRAPHIC_DOB_SPOUSE\"])\n",
        "\n",
        "# 3. Commonly used and from anniversary\n",
        "run_testcases(\"0303\", None, None, \"03-03-2022\", \"WEAK\", [\"COMMONLY_USED\", \"DEMOGRAPHIC_ANNIVERSARY\"])\n",
        "\n",
        "# 4. Strong 4-digit PIN not found in any part\n",
        "run_testcases(\"7583\", \"01-01-1990\", \"02-02-1991\", \"03-03-2001\", \"STRONG\", [])\n",
        "\n",
        "# 5. MPIN from DD+MM of self DOB\n",
        "run_testcases(\"1508\", \"15-08-1995\", None, None, \"WEAK\", [\"DEMOGRAPHIC_DOB_SELF\"])\n",
        "\n",
        "# 6. MPIN from DD+YY of spouse DOB\n",
        "run_testcases(\"1585\", None, \"15-08-1985\", None, \"WEAK\", [\"DEMOGRAPHIC_DOB_SPOUSE\"])\n",
        "\n",
        "# 7. MPIN from MM+YY of anniversary\n",
        "run_testcases(\"0890\", None, None, \"15-08-1990\", \"WEAK\", [\"DEMOGRAPHIC_ANNIVERSARY\"])\n",
        "\n",
        "# 8. Commonly used + Demographic (DDMM combo)\n",
        "run_testcases(\"1225\", \"25-12-1990\", None, None, \"WEAK\", [\"COMMONLY_USED\", \"DEMOGRAPHIC_DOB_SELF\"])\n",
        "\n",
        "# 9. Demographic combination: DD (self) + YY (spouse)\n",
        "run_testcases(\"1585\", \"15-01-2000\", \"01-01-1985\", None, \"WEAK\", [\"DEMOGRAPHIC_DOB_SELF\", \"DEMOGRAPHIC_DOB_SPOUSE\"])\n",
        "\n",
        "# 10. MPIN from reversed MMYY of anniversary\n",
        "run_testcases(\"9021\", None, None, \"21-09-1990\", \"WEAK\", [\"DEMOGRAPHIC_ANNIVERSARY\"])\n",
        "\n",
        "# 11. Strong 6-digit MPIN\n",
        "run_testcases(\"918273\", \"01-01-1980\", \"05-07-1983\", \"11-12-1986\", \"STRONG\", [])\n",
        "\n",
        "# 12. MPIN from DDMMYY of self DOB (2+2+2 format)\n",
        "run_testcases(\"150895\", \"15-08-1995\", None, None, \"WEAK\", [\"DEMOGRAPHIC_DOB_SELF\"])\n",
        "\n",
        "# 13. MPIN from combo across self and spouse (DDYY)\n",
        "run_testcases(\"1581\", \"15-08-1990\", \"01-01-1981\", None, \"WEAK\", [\"DEMOGRAPHIC_DOB_SELF\", \"DEMOGRAPHIC_DOB_SPOUSE\"])\n",
        "\n",
        "# 14. 6-digit MPIN from self + spouse (DDMM + YY from both)\n",
        "run_testcases(\"150891\", \"15-08-1995\", \"12-12-1991\", None, \"WEAK\", [\"DEMOGRAPHIC_DOB_SELF\", \"DEMOGRAPHIC_DOB_SPOUSE\"])\n",
        "\n",
        "# 15. 6-digit MPIN from anniversary DDMMYY\n",
        "run_testcases(\"250790\", None, None, \"25-07-1990\", \"WEAK\", [\"DEMOGRAPHIC_ANNIVERSARY\"])\n",
        "\n",
        "# 16. Commonly used 6-digit\n",
        "run_testcases(\"123456\", \"01-01-2000\", None, None, \"WEAK\", [\"COMMONLY_USED\"])\n",
        "\n",
        "# 17. Common + from multiple demographics\n",
        "run_testcases(\"010203\", \"01-02-2003\", \"01-02-2003\", \"01-02-2003\", \"WEAK\", [\"COMMONLY_USED\", \"DEMOGRAPHIC_DOB_SELF\", \"DEMOGRAPHIC_DOB_SPOUSE\", \"DEMOGRAPHIC_ANNIVERSARY\"])\n",
        "\n",
        "# 18. Random 4-digit not related to any date\n",
        "run_testcases(\"8672\", \"01-01-1990\", \"02-02-1990\", \"03-03-1990\", \"STRONG\", [])\n",
        "\n",
        "# 19. Only spouse and anniversary match\n",
        "run_testcases(\"0211\", None, \"02-11-1992\", \"02-11-2022\", \"WEAK\", [\"DEMOGRAPHIC_DOB_SPOUSE\", \"DEMOGRAPHIC_ANNIVERSARY\"])\n",
        "\n",
        "# 20. Only DOB year parts match (YY)\n",
        "run_testcases(\"9019\", \"19-01-1990\", None, None, \"WEAK\", [\"DEMOGRAPHIC_DOB_SELF\"])\n"
      ]
    }
  ],
  "metadata": {
    "colab": {
      "provenance": [],
      "toc_visible": true
    },
    "kernelspec": {
      "display_name": "Python 3",
      "name": "python3"
    },
    "language_info": {
      "name": "python"
    }
  },
  "nbformat": 4,
  "nbformat_minor": 0
}
